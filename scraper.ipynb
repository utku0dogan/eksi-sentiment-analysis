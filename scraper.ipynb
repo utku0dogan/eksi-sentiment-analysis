{
 "cells": [
  {
   "cell_type": "code",
   "execution_count": 1,
   "id": "dd2969ee",
   "metadata": {},
   "outputs": [],
   "source": [
    "from bs4 import BeautifulSoup\n",
    "import requests\n",
    "import re\n",
    "import datetime\n",
    "import csv\n",
    "import pandas as pd"
   ]
  },
  {
   "cell_type": "code",
   "execution_count": 2,
   "id": "86935c3c",
   "metadata": {},
   "outputs": [
    {
     "name": "stdout",
     "output_type": "stream",
     "text": [
      "https://eksisozluk.com/netspeed--2072551?p=1\n"
     ]
    },
    {
     "data": {
      "text/plain": [
       "datetime.timedelta(seconds=41, microseconds=706589)"
      ]
     },
     "execution_count": 2,
     "metadata": {},
     "output_type": "execute_result"
    }
   ],
   "source": [
    "URL = input()\n",
    "\n",
    "entries = []\n",
    "\n",
    "USER_AGENT = \"Mozilla/5.0 (Windows NT 10.0; Win64; x64) AppleWebKit/537.36 (KHTML, like Gecko) Chrome/91.0.4472.164 Safari/537.36 OPR/77.0.4054.277\"\n",
    "\n",
    "r = requests.get(URL, headers={'User-Agent': USER_AGENT})\n",
    "soup = BeautifulSoup(r.content, 'html.parser')\n",
    "\n",
    "def page_counts(url):\n",
    "    \"\"\"\n",
    "        Get page counts of the titles\n",
    "    \"\"\"\n",
    "    r = requests.get(url, headers={'User-Agent':USER_AGENT})\n",
    "    soup = BeautifulSoup(r.content, 'html.parser')\n",
    "    try:\n",
    "        last_page = soup.find('div', {'class':'pager'})['data-pagecount']\n",
    "    except TypeError:\n",
    "        last_page = 1\n",
    "    return int(last_page)\n",
    "\n",
    "page_count = page_counts(URL)\n",
    "\n",
    "start = datetime.datetime.now()\n",
    "rootURL = URL[:-1]\n",
    "for i in range(int(page_count) + 1):   ##pagecount\n",
    "    \n",
    "    URL_ = rootURL + str(i)\n",
    "    r = requests.get(URL_, headers={'User-Agent': USER_AGENT})\n",
    "    soup2 = BeautifulSoup(r.text, 'html.parser')\n",
    "    entry = soup2.find('div', {'class':'content'}) # find entry content\n",
    "    entry_date = soup2.find('a', {'class':'entry-date permalink'}) # find date of the entry\n",
    "    while entry is not None: # iterate until entry object not None \n",
    "        data = {\n",
    "            'Entry': entry.get_text(separator=\" \").replace('\\n','').replace('\\r', '').replace('\\t', '').replace('    ', '').replace('bkz: ', '').replace('---  spoiler  ---', ''),# clear the contents of the entry from unnecessary things\n",
    "            'Date': entry_date.text[:10],\n",
    "        }\n",
    "        entries.append(data)\n",
    "        entry = entry.find_next('div', {'class':'content'}) # find next entry content\n",
    "        entry_date = entry_date.find_next('a', {'class':'entry-date permalink'}) # find next date of the entry\n",
    "        \n",
    "end = datetime.datetime.now()\n",
    "end-start"
   ]
  },
  {
   "cell_type": "code",
   "execution_count": 8,
   "id": "f4f7aa91",
   "metadata": {},
   "outputs": [
    {
     "name": "stderr",
     "output_type": "stream",
     "text": [
      "C:\\Users\\utku.dogan\\AppData\\Local\\Temp\\ipykernel_11720\\2475433900.py:1: FutureWarning: Passing a negative integer is deprecated in version 1.0 and will not be supported in future version. Instead, use None to not limit the column width.\n",
      "  pd.set_option(\"display.max_colwidth\", -1)\n"
     ]
    }
   ],
   "source": [
    "pd.set_option(\"display.max_colwidth\", -1)"
   ]
  },
  {
   "cell_type": "code",
   "execution_count": 9,
   "id": "52922fb2",
   "metadata": {},
   "outputs": [
    {
     "data": {
      "text/html": [
       "<div>\n",
       "<style scoped>\n",
       "    .dataframe tbody tr th:only-of-type {\n",
       "        vertical-align: middle;\n",
       "    }\n",
       "\n",
       "    .dataframe tbody tr th {\n",
       "        vertical-align: top;\n",
       "    }\n",
       "\n",
       "    .dataframe thead th {\n",
       "        text-align: right;\n",
       "    }\n",
       "</style>\n",
       "<table border=\"1\" class=\"dataframe\">\n",
       "  <thead>\n",
       "    <tr style=\"text-align: right;\">\n",
       "      <th></th>\n",
       "      <th>Entry</th>\n",
       "      <th>Date</th>\n",
       "    </tr>\n",
       "  </thead>\n",
       "  <tbody>\n",
       "    <tr>\n",
       "      <th>0</th>\n",
       "      <td>netspeed ayda 34tl 16 mbps'ye kadar hızda internet hizmeti verdiğini iddia eden iss firma. dolayısıyla aklımda deli sorular, aslında mantıklı sorular oluştu. devlet bu kadar vergi alırken bu adamların kazancı ne kadar? eğer bu firma kazanıyor ise başta ttnet olmak üzere diğerlerinin kazandığı ne? yok eğer cepten para koyu hizmet veriyorsa nereye kadar verecek bu hizmeti? birileri anladıysa bi zahmet anlatsın</td>\n",
       "      <td>29.05.2017</td>\n",
       "    </tr>\n",
       "    <tr>\n",
       "      <th>1</th>\n",
       "      <td>neden bu kadar ucuz olduğunu düşündüren sitedir.</td>\n",
       "      <td>29.05.2017</td>\n",
       "    </tr>\n",
       "    <tr>\n",
       "      <th>2</th>\n",
       "      <td>mevcut müşterilerinin buranın hizmeti hakkında düşündüklerini merak ettiğim internet sağlayıcısı. gerçekten kullanan varsa yeşillendirebilir, güvenmeli mi emin olamadım. dogru web sitesi icin ( netspeed.com.tr )</td>\n",
       "      <td>14.09.2017</td>\n",
       "    </tr>\n",
       "    <tr>\n",
       "      <th>3</th>\n",
       "      <td>mevcut müşterileri kimlerdir merak edilen iss.</td>\n",
       "      <td>21.09.2017</td>\n",
       "    </tr>\n",
       "    <tr>\n",
       "      <th>4</th>\n",
       "      <td>candır can. turk.net'in hızımı sınırlayıp durmasından sonra - ki sözüm ona 100 mbps alıyorken bu 5,6 mbps'yi geçmiyordu-netspeede geçtim 32 mbps ile bağlanıyorum mis gibi bi kere bile kopma filan yaşamadım düşünenler geçsin taahhütte yok ne kaybedeceksiniz? zaten geçtiğiniz için oh be dünya varmış diyeceksiniz.</td>\n",
       "      <td>23.10.2017</td>\n",
       "    </tr>\n",
       "    <tr>\n",
       "      <th>...</th>\n",
       "      <td>...</td>\n",
       "      <td>...</td>\n",
       "    </tr>\n",
       "    <tr>\n",
       "      <th>747</th>\n",
       "      <td>yaklaşık 1 aydır 100 mbit sınırsız paketini kullandığım internet servis saglayuci. verdikleri hız 108 mbit. oldukça iyi. burda bir arkadasin referansı ile üye oldum 12 tl fatura indirimi oldu. siz de bu kod ile alırsanız 12 ay boyunca 12 lira size de indirim olur. kod: ehe4yq</td>\n",
       "      <td>08.12.2022</td>\n",
       "    </tr>\n",
       "    <tr>\n",
       "      <th>748</th>\n",
       "      <td>farklı iss'den, internet hiç kesilmeden ortalama 3 günde geçiş tamamlanıyor. taahhüt yok. müşteri hizmetleri ilgili ve 7/24 ulaşılabiliyor. indirim kodları 12 ay boyunca karşılıklı 12 tl indirim sağlıyor. indirim kazanmak için kod (büyük harflerle): e p 3 z 7 p</td>\n",
       "      <td>09.12.2022</td>\n",
       "    </tr>\n",
       "    <tr>\n",
       "      <th>749</th>\n",
       "      <td>12 ay boyunca \"12 tl indirimle\" geçiş yapmak isterseniz aşağıdaki referans kodunu kullanabilirsiniz: ly6spx --- 3 ay önce turknet'ten netspeed'e geçiş yaptım. bulunduğum yerde sadece türk telekom altyapısı var ve bu yüzden turknet bana maksimum 70 mbit veriyordu. netspeed'e geçiş yaptım, hızım ortalama 89 mbit'e kadar yükseldi. bu sürede hiç bir problem yaşamadım. tavsiye ediyorum.</td>\n",
       "      <td>09.12.2022</td>\n",
       "    </tr>\n",
       "    <tr>\n",
       "      <th>750</th>\n",
       "      <td>davet kodu: wk13le oluşturulan destek kayıtlarına hızlı dönüş sağlayan bir iss. türkiye gerçekliğinin mahkumu bir internet bağlantısını görece iyi bir fiyata sunuyorlar</td>\n",
       "      <td>09.12.2022</td>\n",
       "    </tr>\n",
       "    <tr>\n",
       "      <th>751</th>\n",
       "      <td>davet koduyla katılanların otomatik ödeme konusunda dikkat etmesi gereken internet firması. eğer otomatik ödemeleriniz enpara, halkbank ve finans bankası gibi bankalarda ise, bu bankalar netspeede son gün ödeme yapıyor ve de netspeed sistemine bir gün geç düşüyor. böyle olunca siz farkına varmadan indirim hakkınızdan faydalanamamış oluyorsunuz. bundan kaçınmak için farklı bir banka ya da fatura kesim tarihinde son günü beklemeden manuel ödeyebilirsiniz. bankalara son ödeme tarihini beklemeden ödeyin deseniz bile bizde öyle bişey yok diyorlar. ultimate fiber ile 100 mbps kullanıyorum, evimde sarı ince kablo, bina altında da turuncu ttnet kablosu var, fiber altyapı var demek. 111e ulaşan hızlar alıyorum. memnunum, 3. yılım bu firmayla. modem ücretsiz kira derdi de yok, kutusunu saklayıp, abonelik bitiminde iade ediyorsunuz. güvenilir, garantili ödeme yaptığım için haklarınız yanmasın isterseniz, davet kodum : 0h3u6r</td>\n",
       "      <td>10.12.2022</td>\n",
       "    </tr>\n",
       "  </tbody>\n",
       "</table>\n",
       "<p>752 rows × 2 columns</p>\n",
       "</div>"
      ],
      "text/plain": [
       "                                                                                                                                                                                                                                                                                                                                                                                                                                                                                                                                                                                                                                                                                                                                                                                                                                                                                                                                                                 Entry  \\\n",
       "0     netspeed ayda 34tl 16 mbps'ye kadar hızda internet hizmeti verdiğini iddia eden iss firma. dolayısıyla aklımda deli sorular, aslında mantıklı sorular oluştu. devlet bu kadar vergi alırken bu adamların kazancı ne kadar? eğer bu firma kazanıyor ise başta ttnet olmak üzere diğerlerinin kazandığı ne? yok eğer cepten para koyu hizmet veriyorsa nereye kadar verecek bu hizmeti? birileri anladıysa bi zahmet anlatsın                                                                                                                                                                                                                                                                                                                                                                                                                                                                                                                                        \n",
       "1    neden bu kadar ucuz olduğunu düşündüren sitedir.                                                                                                                                                                                                                                                                                                                                                                                                                                                                                                                                                                                                                                                                                                                                                                                                                                                                                                                    \n",
       "2    mevcut müşterilerinin buranın hizmeti hakkında düşündüklerini merak ettiğim internet sağlayıcısı. gerçekten kullanan varsa yeşillendirebilir, güvenmeli mi emin olamadım. dogru web sitesi icin ( netspeed.com.tr )                                                                                                                                                                                                                                                                                                                                                                                                                                                                                                                                                                                                                                                                                                                                                 \n",
       "3    mevcut müşterileri kimlerdir merak edilen iss.                                                                                                                                                                                                                                                                                                                                                                                                                                                                                                                                                                                                                                                                                                                                                                                                                                                                                                                      \n",
       "4    candır can. turk.net'in hızımı sınırlayıp durmasından sonra - ki sözüm ona 100 mbps alıyorken bu 5,6 mbps'yi geçmiyordu-netspeede geçtim 32 mbps ile bağlanıyorum mis gibi bi kere bile kopma filan yaşamadım düşünenler geçsin taahhütte yok ne kaybedeceksiniz? zaten geçtiğiniz için oh be dünya varmış diyeceksiniz.                                                                                                                                                                                                                                                                                                                                                                                                                                                                                                                                                                                                                                            \n",
       "..                                                                                                                                                                                                                                                                                                                          ...                                                                                                                                                                                                                                                                                                                                                                                                                                                                                                                                                                                                                                          \n",
       "747  yaklaşık 1 aydır 100 mbit sınırsız paketini kullandığım internet servis saglayuci. verdikleri hız 108 mbit. oldukça iyi. burda bir arkadasin referansı ile üye oldum 12 tl fatura indirimi oldu. siz de bu kod ile alırsanız 12 ay boyunca 12 lira size de indirim olur. kod: ehe4yq                                                                                                                                                                                                                                                                                                                                                                                                                                                                                                                                                                                                                                                                                \n",
       "748  farklı iss'den, internet hiç kesilmeden ortalama 3 günde geçiş tamamlanıyor. taahhüt yok. müşteri hizmetleri ilgili ve 7/24 ulaşılabiliyor. indirim kodları 12 ay boyunca karşılıklı 12 tl indirim sağlıyor. indirim kazanmak için kod (büyük harflerle): e p 3 z 7 p                                                                                                                                                                                                                                                                                                                                                                                                                                                                                                                                                                                                                                                                                               \n",
       "749  12 ay boyunca \"12 tl indirimle\" geçiş yapmak isterseniz aşağıdaki referans kodunu kullanabilirsiniz: ly6spx --- 3 ay önce turknet'ten netspeed'e geçiş yaptım. bulunduğum yerde sadece türk telekom altyapısı var ve bu yüzden turknet bana maksimum 70 mbit veriyordu. netspeed'e geçiş yaptım, hızım ortalama 89 mbit'e kadar yükseldi. bu sürede hiç bir problem yaşamadım. tavsiye ediyorum.                                                                                                                                                                                                                                                                                                                                                                                                                                                                                                                                                                    \n",
       "750  davet kodu: wk13le oluşturulan destek kayıtlarına hızlı dönüş sağlayan bir iss. türkiye gerçekliğinin mahkumu bir internet bağlantısını görece iyi bir fiyata sunuyorlar                                                                                                                                                                                                                                                                                                                                                                                                                                                                                                                                                                                                                                                                                                                                                                                            \n",
       "751  davet koduyla katılanların otomatik ödeme konusunda dikkat etmesi gereken internet firması. eğer otomatik ödemeleriniz enpara, halkbank ve finans bankası gibi bankalarda ise, bu bankalar netspeede son gün ödeme yapıyor ve de netspeed sistemine bir gün geç düşüyor. böyle olunca siz farkına varmadan indirim hakkınızdan faydalanamamış oluyorsunuz. bundan kaçınmak için farklı bir banka ya da fatura kesim tarihinde son günü beklemeden manuel ödeyebilirsiniz. bankalara son ödeme tarihini beklemeden ödeyin deseniz bile bizde öyle bişey yok diyorlar. ultimate fiber ile 100 mbps kullanıyorum, evimde sarı ince kablo, bina altında da turuncu ttnet kablosu var, fiber altyapı var demek. 111e ulaşan hızlar alıyorum. memnunum, 3. yılım bu firmayla. modem ücretsiz kira derdi de yok, kutusunu saklayıp, abonelik bitiminde iade ediyorsunuz. güvenilir, garantili ödeme yaptığım için haklarınız yanmasın isterseniz, davet kodum : 0h3u6r     \n",
       "\n",
       "           Date  \n",
       "0    29.05.2017  \n",
       "1    29.05.2017  \n",
       "2    14.09.2017  \n",
       "3    21.09.2017  \n",
       "4    23.10.2017  \n",
       "..          ...  \n",
       "747  08.12.2022  \n",
       "748  09.12.2022  \n",
       "749  09.12.2022  \n",
       "750  09.12.2022  \n",
       "751  10.12.2022  \n",
       "\n",
       "[752 rows x 2 columns]"
      ]
     },
     "execution_count": 9,
     "metadata": {},
     "output_type": "execute_result"
    }
   ],
   "source": [
    "entriesdf = pd.DataFrame.from_dict(entries)\n",
    "entriesdf"
   ]
  },
  {
   "cell_type": "code",
   "execution_count": null,
   "id": "00c0dd18",
   "metadata": {},
   "outputs": [],
   "source": []
  }
 ],
 "metadata": {
  "kernelspec": {
   "display_name": "Python 3 (ipykernel)",
   "language": "python",
   "name": "python3"
  },
  "language_info": {
   "codemirror_mode": {
    "name": "ipython",
    "version": 3
   },
   "file_extension": ".py",
   "mimetype": "text/x-python",
   "name": "python",
   "nbconvert_exporter": "python",
   "pygments_lexer": "ipython3",
   "version": "3.10.7"
  }
 },
 "nbformat": 4,
 "nbformat_minor": 5
}
