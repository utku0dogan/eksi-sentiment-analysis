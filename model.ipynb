{
 "cells": [
  {
   "cell_type": "code",
   "execution_count": 19,
   "id": "c2a5e895",
   "metadata": {},
   "outputs": [],
   "source": [
    "import numpy as np\n",
    "import pandas as pd\n",
    "from keras.preprocessing import sequence\n",
    "from keras.models import Sequential\n",
    "from keras.layers import Dense, Embedding, LSTM,  Dropout\n",
    "from keras.preprocessing.text import Tokenizer\n",
    "##from keras.preprocessing.sequence import pad_sequences\n",
    "import tensorflow as tf"
   ]
  },
  {
   "cell_type": "code",
   "execution_count": 3,
   "id": "d4dbc60d",
   "metadata": {},
   "outputs": [],
   "source": [
    "dataset = pd.read_csv(\"sentiment_data.csv\")"
   ]
  },
  {
   "cell_type": "code",
   "execution_count": 4,
   "id": "a4d13eef",
   "metadata": {},
   "outputs": [
    {
     "data": {
      "text/html": [
       "<div>\n",
       "<style scoped>\n",
       "    .dataframe tbody tr th:only-of-type {\n",
       "        vertical-align: middle;\n",
       "    }\n",
       "\n",
       "    .dataframe tbody tr th {\n",
       "        vertical-align: top;\n",
       "    }\n",
       "\n",
       "    .dataframe thead th {\n",
       "        text-align: right;\n",
       "    }\n",
       "</style>\n",
       "<table border=\"1\" class=\"dataframe\">\n",
       "  <thead>\n",
       "    <tr style=\"text-align: right;\">\n",
       "      <th></th>\n",
       "      <th>Unnamed: 0</th>\n",
       "      <th>Rating</th>\n",
       "      <th>Review</th>\n",
       "    </tr>\n",
       "  </thead>\n",
       "  <tbody>\n",
       "    <tr>\n",
       "      <th>0</th>\n",
       "      <td>0</td>\n",
       "      <td>1.0</td>\n",
       "      <td>3 yıldır tık demedi. :)</td>\n",
       "    </tr>\n",
       "    <tr>\n",
       "      <th>1</th>\n",
       "      <td>1</td>\n",
       "      <td>1.0</td>\n",
       "      <td>3 yıldır kullanıyorum müthiş</td>\n",
       "    </tr>\n",
       "    <tr>\n",
       "      <th>2</th>\n",
       "      <td>2</td>\n",
       "      <td>1.0</td>\n",
       "      <td>Ürün bugün elime geçti çok fazla inceleme fırs...</td>\n",
       "    </tr>\n",
       "    <tr>\n",
       "      <th>3</th>\n",
       "      <td>3</td>\n",
       "      <td>1.0</td>\n",
       "      <td>Almaya karar verdim. Hemencecik geldi. Keyifle...</td>\n",
       "    </tr>\n",
       "    <tr>\n",
       "      <th>4</th>\n",
       "      <td>4</td>\n",
       "      <td>1.0</td>\n",
       "      <td>Günlük kullanımınızı çok çok iyi karsılıyor kı...</td>\n",
       "    </tr>\n",
       "  </tbody>\n",
       "</table>\n",
       "</div>"
      ],
      "text/plain": [
       "   Unnamed: 0  Rating                                             Review\n",
       "0           0     1.0                            3 yıldır tık demedi. :)\n",
       "1           1     1.0                      3 yıldır kullanıyorum müthiş \n",
       "2           2     1.0  Ürün bugün elime geçti çok fazla inceleme fırs...\n",
       "3           3     1.0  Almaya karar verdim. Hemencecik geldi. Keyifle...\n",
       "4           4     1.0  Günlük kullanımınızı çok çok iyi karsılıyor kı..."
      ]
     },
     "execution_count": 4,
     "metadata": {},
     "output_type": "execute_result"
    }
   ],
   "source": [
    "df = dataset.copy()\n",
    "df.head()"
   ]
  },
  {
   "cell_type": "code",
   "execution_count": 5,
   "id": "9eec081c",
   "metadata": {},
   "outputs": [
    {
     "data": {
      "text/html": [
       "<div>\n",
       "<style scoped>\n",
       "    .dataframe tbody tr th:only-of-type {\n",
       "        vertical-align: middle;\n",
       "    }\n",
       "\n",
       "    .dataframe tbody tr th {\n",
       "        vertical-align: top;\n",
       "    }\n",
       "\n",
       "    .dataframe thead th {\n",
       "        text-align: right;\n",
       "    }\n",
       "</style>\n",
       "<table border=\"1\" class=\"dataframe\">\n",
       "  <thead>\n",
       "    <tr style=\"text-align: right;\">\n",
       "      <th></th>\n",
       "      <th>Rating</th>\n",
       "      <th>Review</th>\n",
       "    </tr>\n",
       "  </thead>\n",
       "  <tbody>\n",
       "    <tr>\n",
       "      <th>0</th>\n",
       "      <td>1.0</td>\n",
       "      <td>3 yıldır tık demedi. :)</td>\n",
       "    </tr>\n",
       "    <tr>\n",
       "      <th>1</th>\n",
       "      <td>1.0</td>\n",
       "      <td>3 yıldır kullanıyorum müthiş</td>\n",
       "    </tr>\n",
       "    <tr>\n",
       "      <th>2</th>\n",
       "      <td>1.0</td>\n",
       "      <td>Ürün bugün elime geçti çok fazla inceleme fırs...</td>\n",
       "    </tr>\n",
       "    <tr>\n",
       "      <th>3</th>\n",
       "      <td>1.0</td>\n",
       "      <td>Almaya karar verdim. Hemencecik geldi. Keyifle...</td>\n",
       "    </tr>\n",
       "    <tr>\n",
       "      <th>4</th>\n",
       "      <td>1.0</td>\n",
       "      <td>Günlük kullanımınızı çok çok iyi karsılıyor kı...</td>\n",
       "    </tr>\n",
       "    <tr>\n",
       "      <th>...</th>\n",
       "      <td>...</td>\n",
       "      <td>...</td>\n",
       "    </tr>\n",
       "    <tr>\n",
       "      <th>281937</th>\n",
       "      <td>0.0</td>\n",
       "      <td>turkcell'den 2000 yılında new york borsasında ...</td>\n",
       "    </tr>\n",
       "    <tr>\n",
       "      <th>281938</th>\n",
       "      <td>0.0</td>\n",
       "      <td>Yeni telefon sapığım Turkcell .Açmadığım halde...</td>\n",
       "    </tr>\n",
       "    <tr>\n",
       "      <th>281939</th>\n",
       "      <td>0.0</td>\n",
       "      <td>106 lira fatura mı olur turkcell sadece soruyorum</td>\n",
       "    </tr>\n",
       "    <tr>\n",
       "      <th>281940</th>\n",
       "      <td>0.0</td>\n",
       "      <td>@Buragl111 turkcell kazık takıl sen bimcell le...</td>\n",
       "    </tr>\n",
       "    <tr>\n",
       "      <th>281941</th>\n",
       "      <td>0.0</td>\n",
       "      <td>@TurkcellHizmet merhaba. Numarami bir baska op...</td>\n",
       "    </tr>\n",
       "  </tbody>\n",
       "</table>\n",
       "<p>281459 rows × 2 columns</p>\n",
       "</div>"
      ],
      "text/plain": [
       "        Rating                                             Review\n",
       "0          1.0                            3 yıldır tık demedi. :)\n",
       "1          1.0                      3 yıldır kullanıyorum müthiş \n",
       "2          1.0  Ürün bugün elime geçti çok fazla inceleme fırs...\n",
       "3          1.0  Almaya karar verdim. Hemencecik geldi. Keyifle...\n",
       "4          1.0  Günlük kullanımınızı çok çok iyi karsılıyor kı...\n",
       "...        ...                                                ...\n",
       "281937     0.0  turkcell'den 2000 yılında new york borsasında ...\n",
       "281938     0.0  Yeni telefon sapığım Turkcell .Açmadığım halde...\n",
       "281939     0.0  106 lira fatura mı olur turkcell sadece soruyorum\n",
       "281940     0.0  @Buragl111 turkcell kazık takıl sen bimcell le...\n",
       "281941     0.0  @TurkcellHizmet merhaba. Numarami bir baska op...\n",
       "\n",
       "[281459 rows x 2 columns]"
      ]
     },
     "execution_count": 5,
     "metadata": {},
     "output_type": "execute_result"
    }
   ],
   "source": [
    "df = df.drop(['Unnamed: 0'], axis=1)\n",
    "df = df.dropna()\n",
    "df"
   ]
  },
  {
   "cell_type": "code",
   "execution_count": 6,
   "id": "1062c494",
   "metadata": {},
   "outputs": [
    {
     "data": {
      "text/html": [
       "<div>\n",
       "<style scoped>\n",
       "    .dataframe tbody tr th:only-of-type {\n",
       "        vertical-align: middle;\n",
       "    }\n",
       "\n",
       "    .dataframe tbody tr th {\n",
       "        vertical-align: top;\n",
       "    }\n",
       "\n",
       "    .dataframe thead th {\n",
       "        text-align: right;\n",
       "    }\n",
       "</style>\n",
       "<table border=\"1\" class=\"dataframe\">\n",
       "  <thead>\n",
       "    <tr style=\"text-align: right;\">\n",
       "      <th></th>\n",
       "      <th>Rating</th>\n",
       "      <th>Review</th>\n",
       "    </tr>\n",
       "  </thead>\n",
       "  <tbody>\n",
       "    <tr>\n",
       "      <th>0</th>\n",
       "      <td>1</td>\n",
       "      <td>3 yıldır tık demedi. :)</td>\n",
       "    </tr>\n",
       "    <tr>\n",
       "      <th>1</th>\n",
       "      <td>1</td>\n",
       "      <td>3 yıldır kullanıyorum müthiş</td>\n",
       "    </tr>\n",
       "    <tr>\n",
       "      <th>2</th>\n",
       "      <td>1</td>\n",
       "      <td>Ürün bugün elime geçti çok fazla inceleme fırs...</td>\n",
       "    </tr>\n",
       "    <tr>\n",
       "      <th>3</th>\n",
       "      <td>1</td>\n",
       "      <td>Almaya karar verdim. Hemencecik geldi. Keyifle...</td>\n",
       "    </tr>\n",
       "    <tr>\n",
       "      <th>4</th>\n",
       "      <td>1</td>\n",
       "      <td>Günlük kullanımınızı çok çok iyi karsılıyor kı...</td>\n",
       "    </tr>\n",
       "    <tr>\n",
       "      <th>...</th>\n",
       "      <td>...</td>\n",
       "      <td>...</td>\n",
       "    </tr>\n",
       "    <tr>\n",
       "      <th>281937</th>\n",
       "      <td>0</td>\n",
       "      <td>turkcell'den 2000 yılında new york borsasında ...</td>\n",
       "    </tr>\n",
       "    <tr>\n",
       "      <th>281938</th>\n",
       "      <td>0</td>\n",
       "      <td>Yeni telefon sapığım Turkcell .Açmadığım halde...</td>\n",
       "    </tr>\n",
       "    <tr>\n",
       "      <th>281939</th>\n",
       "      <td>0</td>\n",
       "      <td>106 lira fatura mı olur turkcell sadece soruyorum</td>\n",
       "    </tr>\n",
       "    <tr>\n",
       "      <th>281940</th>\n",
       "      <td>0</td>\n",
       "      <td>@Buragl111 turkcell kazık takıl sen bimcell le...</td>\n",
       "    </tr>\n",
       "    <tr>\n",
       "      <th>281941</th>\n",
       "      <td>0</td>\n",
       "      <td>@TurkcellHizmet merhaba. Numarami bir baska op...</td>\n",
       "    </tr>\n",
       "  </tbody>\n",
       "</table>\n",
       "<p>281459 rows × 2 columns</p>\n",
       "</div>"
      ],
      "text/plain": [
       "        Rating                                             Review\n",
       "0            1                            3 yıldır tık demedi. :)\n",
       "1            1                      3 yıldır kullanıyorum müthiş \n",
       "2            1  Ürün bugün elime geçti çok fazla inceleme fırs...\n",
       "3            1  Almaya karar verdim. Hemencecik geldi. Keyifle...\n",
       "4            1  Günlük kullanımınızı çok çok iyi karsılıyor kı...\n",
       "...        ...                                                ...\n",
       "281937       0  turkcell'den 2000 yılında new york borsasında ...\n",
       "281938       0  Yeni telefon sapığım Turkcell .Açmadığım halde...\n",
       "281939       0  106 lira fatura mı olur turkcell sadece soruyorum\n",
       "281940       0  @Buragl111 turkcell kazık takıl sen bimcell le...\n",
       "281941       0  @TurkcellHizmet merhaba. Numarami bir baska op...\n",
       "\n",
       "[281459 rows x 2 columns]"
      ]
     },
     "execution_count": 6,
     "metadata": {},
     "output_type": "execute_result"
    }
   ],
   "source": [
    "df['Rating'] = df['Rating'].astype('int64')\n",
    "df"
   ]
  },
  {
   "cell_type": "code",
   "execution_count": 7,
   "id": "737f5ab9",
   "metadata": {},
   "outputs": [
    {
     "data": {
      "text/plain": [
       "[1, 0]"
      ]
     },
     "execution_count": 7,
     "metadata": {},
     "output_type": "execute_result"
    }
   ],
   "source": [
    "df['Rating'].unique().tolist()\n"
   ]
  },
  {
   "cell_type": "code",
   "execution_count": 8,
   "id": "e1f3a2e2",
   "metadata": {},
   "outputs": [],
   "source": [
    "target = df['Rating'].values.tolist()#negatif=0, pozitif=1\n",
    "data = df['Review'].values.tolist()#text verisi"
   ]
  },
  {
   "cell_type": "code",
   "execution_count": 9,
   "id": "3e39252a",
   "metadata": {},
   "outputs": [],
   "source": [
    "seperation = int(len(data) * 0.80)\n",
    "x_train, x_test = data[:seperation], data[seperation:]\n",
    "y_train, y_test = target[:seperation], target[seperation:]"
   ]
  },
  {
   "cell_type": "code",
   "execution_count": 10,
   "id": "197a8698",
   "metadata": {},
   "outputs": [
    {
     "data": {
      "text/plain": [
       "(281459, 2)"
      ]
     },
     "execution_count": 10,
     "metadata": {},
     "output_type": "execute_result"
    }
   ],
   "source": [
    "df.shape"
   ]
  },
  {
   "cell_type": "code",
   "execution_count": 11,
   "id": "b7528f11",
   "metadata": {},
   "outputs": [],
   "source": [
    "num_words = 10000\n",
    "tokenizer = Tokenizer(num_words=num_words)\n",
    "tokenizer.fit_on_texts(data)"
   ]
  },
  {
   "cell_type": "code",
   "execution_count": 12,
   "id": "a675db10",
   "metadata": {},
   "outputs": [],
   "source": [
    "import pickle\n",
    "\n",
    "with open('turkish_tokenizer_hack.pickle', 'wb') as handle:\n",
    "    pickle.dump(tokenizer, handle, protocol=pickle.HIGHEST_PROTOCOL)"
   ]
  },
  {
   "cell_type": "code",
   "execution_count": 13,
   "id": "a3d7ef8e",
   "metadata": {},
   "outputs": [],
   "source": [
    "with open('turkish_tokenizer_hack.pickle', 'rb') as handle:\n",
    "    turkish_tokenizer = pickle.load(handle)"
   ]
  },
  {
   "cell_type": "code",
   "execution_count": 14,
   "id": "a97bac1a",
   "metadata": {},
   "outputs": [
    {
     "data": {
      "text/plain": [
       "'Bu fiyata bu kalite kaçırmayın derim '"
      ]
     },
     "execution_count": 14,
     "metadata": {},
     "output_type": "execute_result"
    }
   ],
   "source": [
    "x_train_tokens = turkish_tokenizer.texts_to_sequences(x_train)\n",
    "x_train[100]"
   ]
  },
  {
   "cell_type": "code",
   "execution_count": 15,
   "id": "ffb1e681",
   "metadata": {},
   "outputs": [
    {
     "data": {
      "text/plain": [
       "[5, 44, 5, 143, 349, 148]"
      ]
     },
     "execution_count": 15,
     "metadata": {},
     "output_type": "execute_result"
    }
   ],
   "source": [
    "x_train_tokens[100]"
   ]
  },
  {
   "cell_type": "code",
   "execution_count": 16,
   "id": "48c466a9",
   "metadata": {},
   "outputs": [],
   "source": [
    "x_test_tokens = turkish_tokenizer.texts_to_sequences(x_test)"
   ]
  },
  {
   "cell_type": "code",
   "execution_count": 17,
   "id": "17452437",
   "metadata": {},
   "outputs": [
    {
     "data": {
      "text/plain": [
       "(281459,)"
      ]
     },
     "execution_count": 17,
     "metadata": {},
     "output_type": "execute_result"
    }
   ],
   "source": [
    "num_tokens = [len(tokens) for tokens in x_train_tokens + x_test_tokens]\n",
    "num_tokens = np.array(num_tokens)\n",
    "num_tokens.shape"
   ]
  },
  {
   "cell_type": "code",
   "execution_count": 18,
   "id": "0143d448",
   "metadata": {},
   "outputs": [
    {
     "data": {
      "text/plain": [
       "62"
      ]
     },
     "execution_count": 18,
     "metadata": {},
     "output_type": "execute_result"
    }
   ],
   "source": [
    "max_tokens = np.mean(num_tokens) + 2*np.std(num_tokens) \n",
    "max_tokens = int(max_tokens)\n",
    "max_tokens"
   ]
  },
  {
   "cell_type": "code",
   "execution_count": 20,
   "id": "80408cd7",
   "metadata": {},
   "outputs": [
    {
     "name": "stdout",
     "output_type": "stream",
     "text": [
      "(225167, 62)\n",
      "(56292, 62)\n"
     ]
    }
   ],
   "source": [
    "x_train_pad = tf.keras.utils.pad_sequences(x_train_tokens, maxlen=max_tokens)\n",
    "x_test_pad = tf.keras.utils.pad_sequences(x_test_tokens, maxlen=max_tokens)\n",
    "print(x_train_pad.shape)\n",
    "print(x_test_pad.shape)"
   ]
  },
  {
   "cell_type": "code",
   "execution_count": 21,
   "id": "b39ffe6d",
   "metadata": {},
   "outputs": [],
   "source": [
    "model = Sequential()\n",
    "embedding_size = 50\n",
    "model.add(Embedding(input_dim=num_words,\n",
    "                    output_dim=embedding_size,\n",
    "                    input_length=max_tokens,\n",
    "                    name='embedding_layer'))\n",
    "\n",
    "model.add(LSTM(units=16, return_sequences=True))\n",
    "model.add(Dropout(0.2))\n",
    "model.add(LSTM(units=8, return_sequences=True))\n",
    "model.add(Dropout(0.2))\n",
    "model.add(LSTM(units=4, return_sequences=False))\n",
    "model.add(Dropout(0.2))\n",
    "# Dense layer: Tek nörondan oluşuyor\n",
    "model.add(Dense(1, activation='sigmoid'))"
   ]
  },
  {
   "cell_type": "code",
   "execution_count": 22,
   "id": "7a418e5a",
   "metadata": {},
   "outputs": [
    {
     "name": "stderr",
     "output_type": "stream",
     "text": [
      "C:\\Users\\utku.dogan\\AppData\\Local\\Programs\\Python\\Python310\\lib\\site-packages\\keras\\optimizers\\optimizer_v2\\adam.py:117: UserWarning: The `lr` argument is deprecated, use `learning_rate` instead.\n",
      "  super().__init__(name, **kwargs)\n"
     ]
    }
   ],
   "source": [
    "from keras.optimizers import Adam\n",
    "optimizer = Adam(lr=1e-3)"
   ]
  },
  {
   "cell_type": "code",
   "execution_count": 23,
   "id": "9e039734",
   "metadata": {},
   "outputs": [
    {
     "name": "stdout",
     "output_type": "stream",
     "text": [
      "Model: \"sequential\"\n",
      "_________________________________________________________________\n",
      " Layer (type)                Output Shape              Param #   \n",
      "=================================================================\n",
      " embedding_layer (Embedding)  (None, 62, 50)           500000    \n",
      "                                                                 \n",
      " lstm (LSTM)                 (None, 62, 16)            4288      \n",
      "                                                                 \n",
      " dropout (Dropout)           (None, 62, 16)            0         \n",
      "                                                                 \n",
      " lstm_1 (LSTM)               (None, 62, 8)             800       \n",
      "                                                                 \n",
      " dropout_1 (Dropout)         (None, 62, 8)             0         \n",
      "                                                                 \n",
      " lstm_2 (LSTM)               (None, 4)                 208       \n",
      "                                                                 \n",
      " dropout_2 (Dropout)         (None, 4)                 0         \n",
      "                                                                 \n",
      " dense (Dense)               (None, 1)                 5         \n",
      "                                                                 \n",
      "=================================================================\n",
      "Total params: 505,301\n",
      "Trainable params: 505,301\n",
      "Non-trainable params: 0\n",
      "_________________________________________________________________\n"
     ]
    }
   ],
   "source": [
    "model.compile(loss='binary_crossentropy',\n",
    "optimizer='adam',\n",
    "metrics=['accuracy'])\n",
    "model.summary()"
   ]
  },
  {
   "cell_type": "code",
   "execution_count": 24,
   "id": "c947d397",
   "metadata": {},
   "outputs": [
    {
     "name": "stdout",
     "output_type": "stream",
     "text": [
      "[0 1]\n"
     ]
    }
   ],
   "source": [
    "type(y_train)\n",
    "x = np.array(y_train)\n",
    "print(np.unique(x))"
   ]
  },
  {
   "cell_type": "code",
   "execution_count": 25,
   "id": "52c254f6",
   "metadata": {},
   "outputs": [],
   "source": [
    "x_train_pad = np.array(x_train_pad)\n",
    "y_train = np.array(y_train)"
   ]
  },
  {
   "cell_type": "code",
   "execution_count": 27,
   "id": "564f298e",
   "metadata": {},
   "outputs": [
    {
     "name": "stdout",
     "output_type": "stream",
     "text": [
      "Epoch 1/10\n",
      "880/880 [==============================] - 74s 85ms/step - loss: 0.1993 - accuracy: 0.9490\n",
      "Epoch 2/10\n",
      "880/880 [==============================] - 74s 85ms/step - loss: 0.1116 - accuracy: 0.9651\n",
      "Epoch 3/10\n",
      "880/880 [==============================] - 74s 84ms/step - loss: 0.0858 - accuracy: 0.9734\n",
      "Epoch 4/10\n",
      "880/880 [==============================] - 74s 84ms/step - loss: 0.0698 - accuracy: 0.9790\n",
      "Epoch 5/10\n",
      "880/880 [==============================] - 74s 84ms/step - loss: 0.0572 - accuracy: 0.9832\n",
      "Epoch 6/10\n",
      "880/880 [==============================] - 74s 84ms/step - loss: 0.0486 - accuracy: 0.9862\n",
      "Epoch 7/10\n",
      "880/880 [==============================] - 74s 84ms/step - loss: 0.0416 - accuracy: 0.9891\n",
      "Epoch 8/10\n",
      "880/880 [==============================] - 74s 85ms/step - loss: 0.0376 - accuracy: 0.9903\n",
      "Epoch 9/10\n",
      "880/880 [==============================] - 75s 85ms/step - loss: 0.0326 - accuracy: 0.9919\n",
      "Epoch 10/10\n",
      "880/880 [==============================] - 75s 85ms/step - loss: 0.0288 - accuracy: 0.9931\n"
     ]
    },
    {
     "data": {
      "text/plain": [
       "<keras.callbacks.History at 0x23b183c4ee0>"
      ]
     },
     "execution_count": 27,
     "metadata": {},
     "output_type": "execute_result"
    }
   ],
   "source": [
    "model.fit(x_train_pad, y_train, epochs=10, batch_size=256)"
   ]
  },
  {
   "cell_type": "code",
   "execution_count": 28,
   "id": "1ac81831",
   "metadata": {},
   "outputs": [
    {
     "name": "stdout",
     "output_type": "stream",
     "text": [
      "1760/1760 [==============================] - 29s 16ms/step - loss: 1.0614 - accuracy: 0.7806\n"
     ]
    },
    {
     "data": {
      "text/plain": [
       "[1.0613890886306763, 0.7805549502372742]"
      ]
     },
     "execution_count": 28,
     "metadata": {},
     "output_type": "execute_result"
    }
   ],
   "source": [
    "x_test_pad = np.array(x_test_pad)\n",
    "y_test = np.array(y_test)\n",
    "result = model.evaluate(x_test_pad, y_test)\n",
    "result"
   ]
  },
  {
   "cell_type": "code",
   "execution_count": 29,
   "id": "054d54cf",
   "metadata": {},
   "outputs": [],
   "source": [
    "from keras.models import load_model\n",
    "\n",
    "model.save('hack_model.h5')"
   ]
  },
  {
   "cell_type": "code",
   "execution_count": null,
   "id": "7e6bccad",
   "metadata": {},
   "outputs": [],
   "source": []
  }
 ],
 "metadata": {
  "kernelspec": {
   "display_name": "Python 3 (ipykernel)",
   "language": "python",
   "name": "python3"
  },
  "language_info": {
   "codemirror_mode": {
    "name": "ipython",
    "version": 3
   },
   "file_extension": ".py",
   "mimetype": "text/x-python",
   "name": "python",
   "nbconvert_exporter": "python",
   "pygments_lexer": "ipython3",
   "version": "3.10.7"
  }
 },
 "nbformat": 4,
 "nbformat_minor": 5
}
